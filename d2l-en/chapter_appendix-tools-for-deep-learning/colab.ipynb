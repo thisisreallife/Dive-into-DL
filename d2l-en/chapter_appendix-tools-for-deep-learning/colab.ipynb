{
 "cells": [
  {
   "cell_type": "markdown",
   "metadata": {},
   "source": [
    "# Using Google Colab\n",
    "\n",
    ":label:`sec_colab`\n",
    "\n",
    "\n",
    "We introduced in :numref:`sec_sagemaker` and :numref:`sec_aws` for how to run this book on AWS. Another option is running on [Google Colab](https://colab.research.google.com/), which provides free GPU if you have a Google account.\n",
    "\n",
    "To run a section on Colab, you can simply click the `Colab` button on the right of the title :numref:`fig_colab`. The first time you execute a code cell, you will receive a warning message saying it is from GitHub :numref:`fig_colab2` and may steal your data. If you trust us, then click \"RUN ANYWAY\", then Colab will connect you to an instance to run this notebook. In particular, if GPU is needed, such as `d2l.try_gpu()`, then we will request Colab to connect to a GPU instance automatically.\n",
    "\n",
    "![Open a section on Colab](../img/colab.png)\n",
    "\n",
    ":width:`400px`\n",
    "\n",
    "\n",
    ":label:`fig_colab`\n",
    "\n",
    "\n",
    "![The warning message for running a section on Colab](../img/colab-2.png)\n",
    "\n",
    ":width:`400px`\n",
    "\n",
    "\n",
    ":label:`fig_colab2`\n",
    "\n",
    "\n",
    "\n",
    "## Summary\n",
    "\n",
    "- You can use Google Colab to run each section on GPUs freely."
   ]
  }
 ],
 "metadata": {
  "language_info": {
   "name": "python"
  }
 },
 "nbformat": 4,
 "nbformat_minor": 2
}